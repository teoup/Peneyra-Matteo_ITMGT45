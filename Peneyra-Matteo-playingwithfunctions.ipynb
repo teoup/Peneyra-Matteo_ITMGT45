{
 "cells": [
  {
   "cell_type": "markdown",
   "metadata": {},
   "source": [
    "## 1 \n",
    "### 1 point\n",
    "#### Write a function that takes the circumference of a circle as a parameter and returns the area of that circle.\n",
    "#### Note: Assume the value of pi is 3.1416"
   ]
  },
  {
   "cell_type": "code",
   "execution_count": 14,
   "metadata": {},
   "outputs": [
    {
     "name": "stdout",
     "output_type": "stream",
     "text": [
      "The area of the circle is 9.628851540616246\n"
     ]
    }
   ],
   "source": [
    "def area_of_circle(area):\n",
    "    radius = n / 6.2832\n",
    "    area = ((radius ** 2) * 3.1416)\n",
    "    return area\n",
    "\n",
    "n = 11\n",
    "              \n",
    "print(\"The area of the circle is\", area_of_circle(n))"
   ]
  },
  {
   "cell_type": "markdown",
   "metadata": {},
   "source": [
    "## 2\n",
    "### 2 points\n",
    "#### Write a function that takes a 5-character string as a parameter and returns the string in reverse order. \n",
    "#### e.g. reverseString(\"Hello\") -> \"olleH\""
   ]
  },
  {
   "cell_type": "code",
   "execution_count": 17,
   "metadata": {},
   "outputs": [
    {
     "name": "stdout",
     "output_type": "stream",
     "text": [
      "reverseString Happy ->yppaH\n"
     ]
    }
   ],
   "source": [
    "def reverse(string):\n",
    "    string = \"\".join(reversed(string))\n",
    "    return string\n",
    "\n",
    "s = (\"Happy\")\n",
    "\n",
    "print (\"reverseString\",(s) , \"->\" , end =  \"\") \n",
    "print (reverse(s)) "
   ]
  },
  {
   "cell_type": "markdown",
   "metadata": {},
   "source": [
    "## 3\n",
    "### 2 points\n",
    "#### Write a function that takes a positive integer as input and returns the sum of all positive integers smaller than and including the number itself.\n",
    "#### e.g. backAddition(5) -> 1 + 2 + 3 + 4 + 5 -> 15"
   ]
  },
  {
   "cell_type": "code",
   "execution_count": 16,
   "metadata": {},
   "outputs": [
    {
     "name": "stdout",
     "output_type": "stream",
     "text": [
      "Positive integer: 6\n",
      "backAddition 6.0 -> 21.0\n"
     ]
    }
   ],
   "source": [
    "n = float(input(\"Positive integer: \"))\n",
    "\n",
    "def sum_int(result):\n",
    "    result = (n * (n + 1)) / 2\n",
    "    return result\n",
    "\n",
    "print(\"backAddition\", n, \"->\",sum_int(n))"
   ]
  },
  {
   "cell_type": "code",
   "execution_count": null,
   "metadata": {},
   "outputs": [],
   "source": []
  }
 ],
 "metadata": {
  "kernelspec": {
   "display_name": "Python 3",
   "language": "python",
   "name": "python3"
  },
  "language_info": {
   "codemirror_mode": {
    "name": "ipython",
    "version": 3
   },
   "file_extension": ".py",
   "mimetype": "text/x-python",
   "name": "python",
   "nbconvert_exporter": "python",
   "pygments_lexer": "ipython3",
   "version": "3.8.3"
  }
 },
 "nbformat": 4,
 "nbformat_minor": 4
}

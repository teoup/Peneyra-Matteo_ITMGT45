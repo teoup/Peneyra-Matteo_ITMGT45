{
 "cells": [
  {
   "cell_type": "markdown",
   "metadata": {},
   "source": [
    "## 193879\n",
    "## Peneyra\n",
    "## 2 BS ITE"
   ]
  },
  {
   "cell_type": "code",
   "execution_count": 1,
   "metadata": {},
   "outputs": [
    {
     "name": "stdout",
     "output_type": "stream",
     "text": [
      "Enter first number:1\n",
      "Enter second number:2\n",
      "Enter third number:3\n",
      "The average is 2.0\n"
     ]
    }
   ],
   "source": [
    "    n1 = float(input(\"Enter first number:\"))\n",
    "    n2 = float(input(\"Enter second number:\"))\n",
    "    n3 = float(input(\"Enter third number:\"))\n",
    "    \n",
    "    total = n1 + n2 + n3\n",
    "    avg = total/3\n",
    "    \n",
    "    print(\"The average is\", avg)"
   ]
  },
  {
   "cell_type": "code",
   "execution_count": null,
   "metadata": {},
   "outputs": [],
   "source": []
  }
 ],
 "metadata": {
  "kernelspec": {
   "display_name": "Python 3",
   "language": "python",
   "name": "python3"
  },
  "language_info": {
   "codemirror_mode": {
    "name": "ipython",
    "version": 3
   },
   "file_extension": ".py",
   "mimetype": "text/x-python",
   "name": "python",
   "nbconvert_exporter": "python",
   "pygments_lexer": "ipython3",
   "version": "3.8.3"
  }
 },
 "nbformat": 4,
 "nbformat_minor": 4
}

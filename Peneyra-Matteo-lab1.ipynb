{
 "cells": [
  {
   "cell_type": "markdown",
   "metadata": {},
   "source": [
    "## 193879\n",
    "## Peneyra\n",
    "## 2 BS ITE"
   ]
  },
  {
   "cell_type": "code",
   "execution_count": 1,
   "metadata": {},
   "outputs": [
    {
     "name": "stdout",
     "output_type": "stream",
     "text": [
      "Enter the amount in US Dollars:2\n",
      "2.0 US dollar(s) = 100.0 Philippine Pesos\n"
     ]
    }
   ],
   "source": [
    "n1 = float(input(\"Enter the amount in US Dollars:\"))\n",
    "\n",
    "total = n1 * 50\n",
    "\n",
    "print(n1, \"US dollar(s) =\", total, \"Philippine Pesos\")"
   ]
  },
  {
   "cell_type": "code",
   "execution_count": 2,
   "metadata": {},
   "outputs": [
    {
     "name": "stdout",
     "output_type": "stream",
     "text": [
      "55\n",
      "3\n",
      "58\n",
      "52\n",
      "165\n",
      "18\n",
      "1\n"
     ]
    }
   ],
   "source": [
    "import math\n",
    "\n",
    "a = float(input(\"\"))\n",
    "b = float(input(\"\"))\n",
    "\n",
    "sum = a + b\n",
    "total = a - b\n",
    "product = a * b\n",
    "quotient = a/b\n",
    "remainder = a/b - int(a/b)\n",
    "\n",
    "round = math.ceil(remainder)\n",
    "\n",
    "print(int(sum))\n",
    "print(int(total))\n",
    "print(int(product))\n",
    "print(int(quotient))\n",
    "print(round)"
   ]
  },
  {
   "cell_type": "code",
   "execution_count": 4,
   "metadata": {},
   "outputs": [
    {
     "name": "stdout",
     "output_type": "stream",
     "text": [
      "Enter kg:65\n",
      "Enter cm:180\n",
      "BMI: 20.061728395061728\n"
     ]
    }
   ],
   "source": [
    "kg = float(input(\"Enter kg:\"))\n",
    "cm = float(input(\"Enter cm:\"))\n",
    "\n",
    "m = cm / 100\n",
    "\n",
    "bmi = kg / (m ** 2)\n",
    "\n",
    "print(\"BMI:\", bmi)"
   ]
  },
  {
   "cell_type": "code",
   "execution_count": null,
   "metadata": {},
   "outputs": [],
   "source": []
  }
 ],
 "metadata": {
  "kernelspec": {
   "display_name": "Python 3",
   "language": "python",
   "name": "python3"
  },
  "language_info": {
   "codemirror_mode": {
    "name": "ipython",
    "version": 3
   },
   "file_extension": ".py",
   "mimetype": "text/x-python",
   "name": "python",
   "nbconvert_exporter": "python",
   "pygments_lexer": "ipython3",
   "version": "3.8.3"
  }
 },
 "nbformat": 4,
 "nbformat_minor": 4
}
